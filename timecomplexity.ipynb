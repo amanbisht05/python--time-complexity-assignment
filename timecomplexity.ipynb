{
 "cells": [
  {
   "cell_type": "code",
   "execution_count": 7,
   "id": "6eb46921-1192-41b9-a7f3-ff2cd01aab1d",
   "metadata": {},
   "outputs": [],
   "source": [
    "# Q-1 \n",
    "# Worst case O(n^2)\n",
    "# Average case O(nlogn)\n"
   ]
  },
  {
   "cell_type": "code",
   "execution_count": null,
   "id": "f294f3da-9eb8-4224-91cc-9822b75b4e60",
   "metadata": {},
   "outputs": [],
   "source": [
    "# Q-2\n",
    "# Worst case O(n^2)\n"
   ]
  },
  {
   "cell_type": "code",
   "execution_count": null,
   "id": "36a8b967-5637-40e3-a779-92c6d46ab0c2",
   "metadata": {},
   "outputs": [],
   "source": [
    "#Q-3\n",
    "# O(n)"
   ]
  },
  {
   "cell_type": "code",
   "execution_count": null,
   "id": "0627454b-019f-419b-a23c-bbe798d2da2d",
   "metadata": {},
   "outputs": [],
   "source": [
    "#Q-4\n",
    "# O(n^2)"
   ]
  },
  {
   "cell_type": "code",
   "execution_count": null,
   "id": "2f0798c0-4724-4ada-87f4-f70645eadccd",
   "metadata": {},
   "outputs": [],
   "source": [
    "# Q-5\n",
    "# O(n^2)"
   ]
  },
  {
   "cell_type": "code",
   "execution_count": 11,
   "id": "622b15a1-aae7-409f-b0b4-66248f3717c0",
   "metadata": {},
   "outputs": [
    {
     "name": "stdout",
     "output_type": "stream",
     "text": [
      "6\n"
     ]
    }
   ],
   "source": [
    "# Q-6\n",
    "def sumDigits(no): \n",
    "    return 0 if no == 0 else int(no % 10) + sumDigits(int(no / 10))  \n",
    "   \n",
    "n = 123\n",
    "print(sumDigits(n))"
   ]
  },
  {
   "cell_type": "code",
   "execution_count": 12,
   "id": "00d1bd72-0046-40f3-8d02-d1e774e2bf43",
   "metadata": {},
   "outputs": [
    {
     "name": "stdout",
     "output_type": "stream",
     "text": [
      "34\n"
     ]
    }
   ],
   "source": [
    "#Q-7\n",
    "def fibonacci(n, memo={}):\n",
    "    if n <= 0:\n",
    "        return 0\n",
    "    elif n == 1:\n",
    "        return 1\n",
    "    elif n in memo:\n",
    "        return memo[n]\n",
    "    else:\n",
    "        memo[n] = fibonacci(n-1) + fibonacci(n-2)\n",
    "        return memo[n]\n",
    " \n",
    "print(fibonacci(9))"
   ]
  },
  {
   "cell_type": "code",
   "execution_count": 5,
   "id": "3aff5c8b-b907-413c-b219-f1351315d388",
   "metadata": {},
   "outputs": [
    {
     "name": "stdout",
     "output_type": "stream",
     "text": [
      "True\n",
      "False\n"
     ]
    }
   ],
   "source": [
    "#Q-9 Wordbreak\n",
    "def wordBreak(wordList,word):\n",
    "    if word == \"\":\n",
    "        return True\n",
    "    else:\n",
    "        length = len(word)\n",
    "        for i in range(1,length + 1):\n",
    "            if word[:i] in wordList and wordBreak(wordList,word[i:] ):\n",
    "                return True\n",
    "        return False \n",
    "\n",
    "print(wordBreak([\"leet\",\"code\"], \"leetcode\"))\n",
    "print(wordBreak([\"I\",\"am\", \"sam\", \"sung\", \"love\", \"vishwa\"], \"Vishwalovesamsung\"))"
   ]
  },
  {
   "cell_type": "code",
   "execution_count": null,
   "id": "04122f4b-2adf-4410-ba1a-9f89ff7b08a4",
   "metadata": {},
   "outputs": [],
   "source": [
    "#Q-10\n",
    "# N Queen Problem\n",
    "# Return True if it's safe to place queen on the board\n",
    "def isSafeToPlaceQueen(board , row , col , n):\n",
    "      # Check in the left side\n",
    "  for i in range(col):\n",
    "    if board[row][i]==1 :\n",
    "        return False\n",
    "\n",
    "  #Check in the upper left diagonal\n",
    "  for i, j in zip(range(row,-1,-1),range(col,-1,-1)):\n",
    "    if board[i][j] ==1:\n",
    "        return False\n",
    "\n",
    "  #Check in the lower left diagonal\n",
    "  for i,j in zip(range(row,n,1 ), range(col, -1,-1)):\n",
    "    if board[i][j]==1:\n",
    "        return False\n",
    "\n",
    "    return True\n",
    "\n",
    "\n",
    "\n",
    "\n",
    "def solveNQ(board,n):\n",
    "\n",
    "    if not solveNQUtil(board,0,n):\n",
    "        print(\"Solution doesn't exist\")\n",
    "        return\n",
    "\n",
    "    printBoard(board,n)\n",
    "\n",
    "# Should return True if we are able to place all the queens\n",
    "def solveNQUtil(board , col , n):\n",
    "    if(col >=n): #Base condition\n",
    "        return True  # Means we have bee able to put queens in all the columns\n",
    "\n",
    "  # Check for all the rows\n",
    "  for row in range(n) :\n",
    "    if isSafeToPlaceQueen(board,row,col, n) :\n",
    "        board[row][col]= 1 #Set the queen\n",
    "\n",
    "      #Recursively try for the next columns\n",
    "      if solveNQUtil(board,col+1,n):\n",
    "        return True\n",
    "      #Back Tracking\n",
    "        board[row][col]= 0 # Queen can't be set here\n",
    "\n",
    "    return False #Won't be able to place the queen\n",
    "\n",
    "\n",
    "def printBoard(board,n):\n",
    "    for i in range(n):\n",
    "        for j in range(n):\n",
    "            if board[i][j]==1 :\n",
    "                print(\"Q\",end=\" \")\n",
    "            else :\n",
    "                print(\".\",end=\" \")\n",
    "    print()\n",
    "    \n",
    "    \n",
    "board8 = [[0,0,0,0,0,0,0,0],\n",
    "          [0,0,0,0,0,0,0,0],\n",
    "          [0,0,0,0,0,0,0,0],\n",
    "          [0,0,0,0,0,0,0,0],\n",
    "          [0,0,0,0,0,0,0,0],\n",
    "          [0,0,0,0,0,0,0,0],\n",
    "          [0,0,0,0,0,0,0,0],\n",
    "          [0,0,0,0,0,0,0,0]\n",
    "          ]\n",
    "solveNQ(board8,8)"
   ]
  },
  {
   "cell_type": "code",
   "execution_count": null,
   "id": "a6888023-d10f-4be9-8582-b841ddde5810",
   "metadata": {},
   "outputs": [],
   "source": []
  }
 ],
 "metadata": {
  "kernelspec": {
   "display_name": "Python 3 (ipykernel)",
   "language": "python",
   "name": "python3"
  },
  "language_info": {
   "codemirror_mode": {
    "name": "ipython",
    "version": 3
   },
   "file_extension": ".py",
   "mimetype": "text/x-python",
   "name": "python",
   "nbconvert_exporter": "python",
   "pygments_lexer": "ipython3",
   "version": "3.10.8"
  }
 },
 "nbformat": 4,
 "nbformat_minor": 5
}
